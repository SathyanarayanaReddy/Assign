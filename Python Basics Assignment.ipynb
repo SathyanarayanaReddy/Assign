{
  "metadata": {
    "language_info": {
      "codemirror_mode": {
        "name": "python",
        "version": 3
      },
      "file_extension": ".py",
      "mimetype": "text/x-python",
      "name": "python",
      "nbconvert_exporter": "python",
      "pygments_lexer": "ipython3",
      "version": "3.8"
    },
    "kernelspec": {
      "name": "python",
      "display_name": "Python (Pyodide)",
      "language": "python"
    }
  },
  "nbformat_minor": 4,
  "nbformat": 4,
  "cells": [
    {
      "cell_type": "code",
      "source": "## Python Basics Assignment\n",
      "metadata": {},
      "execution_count": null,
      "outputs": []
    },
    {
      "cell_type": "code",
      "source": "##1\na = 'Python Basics Assignment'\nprint(a)",
      "metadata": {
        "trusted": true
      },
      "execution_count": 1,
      "outputs": [
        {
          "name": "stdout",
          "text": "Python Basics Assignment\n",
          "output_type": "stream"
        }
      ]
    },
    {
      "cell_type": "code",
      "source": "##2\na = 'new message Python Basics Assignment'\nprint(a)",
      "metadata": {
        "trusted": true
      },
      "execution_count": 2,
      "outputs": [
        {
          "name": "stdout",
          "text": "new message Python Basics Assignment\n",
          "output_type": "stream"
        }
      ]
    },
    {
      "cell_type": "code",
      "source": "##3\nname = 'Eric'\nprint('Hello',name,'would you like to learn some Python today?')",
      "metadata": {
        "trusted": true
      },
      "execution_count": 3,
      "outputs": [
        {
          "name": "stdout",
          "text": "Hello Eric would you like to learn some Python today?\n",
          "output_type": "stream"
        }
      ]
    },
    {
      "cell_type": "code",
      "source": "##4\nauthor = 'Albert Einstein'\nprint(author,'once said, “A person who never made a mistake never tried anything new.”')",
      "metadata": {
        "trusted": true
      },
      "execution_count": 5,
      "outputs": [
        {
          "name": "stdout",
          "text": "Albert Einstein once said, “A person who never made a mistake never tried anything new.”\n",
          "output_type": "stream"
        }
      ]
    },
    {
      "cell_type": "code",
      "source": "##5\nauthor = 'Albert Einstein'\nmessage = 'once said, “A person who never made a mistake never tried anything new.”'\nprint(author,message)",
      "metadata": {
        "trusted": true
      },
      "execution_count": 6,
      "outputs": [
        {
          "name": "stdout",
          "text": "Albert Einstein once said, “A person who never made a mistake never tried anything new.”\n",
          "output_type": "stream"
        }
      ]
    },
    {
      "cell_type": "code",
      "source": "##6\nprint(5+3)\nprint(10-2)\nprint(4*2)\nprint(int(24/3))",
      "metadata": {
        "trusted": true
      },
      "execution_count": 7,
      "outputs": [
        {
          "name": "stdout",
          "text": "8\n8\n8\n8\n",
          "output_type": "stream"
        }
      ]
    },
    {
      "cell_type": "code",
      "source": "##7\nc = 5\nb = 'my lucky number is'\nprint(b,c)",
      "metadata": {
        "trusted": true
      },
      "execution_count": 8,
      "outputs": [
        {
          "name": "stdout",
          "text": "my lucky number is 5\n",
          "output_type": "stream"
        }
      ]
    },
    {
      "cell_type": "code",
      "source": "##9\nnames=['sathya','raj','ravi','shanvi','kavya']\nprint(names[0])\nprint(names[1])\nprint(names[2])\nprint(names[3])\nprint(names[4])",
      "metadata": {
        "trusted": true
      },
      "execution_count": 9,
      "outputs": [
        {
          "name": "stdout",
          "text": "sathya\nraj\nravi\nshanvi\nkavya\n",
          "output_type": "stream"
        }
      ]
    },
    {
      "cell_type": "code",
      "source": "##10\nprint('Hi my name is',names[0])\nprint('Hi my name is',names[1])\nprint('Hi my name is',names[2])\nprint('Hi my name is',names[3])\nprint('Hi my name is',names[4])",
      "metadata": {
        "trusted": true
      },
      "execution_count": 11,
      "outputs": [
        {
          "name": "stdout",
          "text": "Hi my name is sathya\nHi my name is raj\nHi my name is ravi\nHi my name is shanvi\nHi my name is kavya\n",
          "output_type": "stream"
        }
      ]
    },
    {
      "cell_type": "code",
      "source": "##11\ntransportation=['motorcycle','car','tractor','Pvtjet']\nprint('“I would like to own a Honda',transportation[0],'.”')\nprint('“\"I like to drive Audi',transportation[1],'.”')\nprint('“I would like to own a A32',transportation[3],'.”')",
      "metadata": {
        "trusted": true
      },
      "execution_count": 24,
      "outputs": [
        {
          "name": "stdout",
          "text": "“I would like to own a Honda motorcycle .”\n“\"I like to drive Audi car .”\n“I would like to own a A32 Pvtjet .”\n",
          "output_type": "stream"
        }
      ]
    },
    {
      "cell_type": "code",
      "source": "",
      "metadata": {},
      "execution_count": null,
      "outputs": []
    }
  ]
}